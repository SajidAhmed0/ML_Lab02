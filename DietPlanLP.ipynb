{
 "cells": [
  {
   "cell_type": "code",
   "execution_count": 1,
   "metadata": {},
   "outputs": [],
   "source": [
    "# uncomment this command if you get an error from the following cell saying that 'highs' solver is not recognized\n",
    "# !pip install --upgrade --user scipy\n"
   ]
  },
  {
   "cell_type": "code",
   "execution_count": 2,
   "metadata": {},
   "outputs": [
    {
     "name": "stdout",
     "output_type": "stream",
     "text": [
      "Optimal daily servings:\n",
      "  Chicken: 0.33 servings\n",
      "  Rice: 14.75 servings\n",
      "  Broccoli: 0.00 servings\n",
      "Total cost: $12.62\n"
     ]
    }
   ],
   "source": [
    "import numpy as np\n",
    "from scipy.optimize import linprog\n",
    "\n",
    "# Define cost per serving (Chicken, Rice, Broccoli)\n",
    "cost = [2.50, 0.80, 1.50]  # Minimize: 2.5x + 0.8y + 1.5z\n",
    "\n",
    "# Define nutrition constraints matrix (Calories, Protein, Fat)\n",
    "# Each row corresponds to a nutrient requirement\n",
    "# Each column represents a food item (Chicken, Rice, Broccoli)\n",
    "nutrition = [\n",
    "    [250, 130, 50],   # Calories per serving\n",
    "    [30, 3, 4],       # Protein per serving\n",
    "    [8, 0.5, 0.2]     # Fat per serving\n",
    "]\n",
    "\n",
    "# Define minimum daily intake for each nutrient\n",
    "min_nutrition = [2000, 50, 10]  # [Calories, Protein, Fat]\n",
    "\n",
    "# Convert constraints to standard form (Ax ≤ b)\n",
    "A_ub = -1 * np.array(nutrition)  # Flip sign to convert ≥ to ≤\n",
    "b_ub = -1 * np.array(min_nutrition)\n",
    "\n",
    "# Define bounds for each food item (no negative servings)\n",
    "bounds = [(0, None), (0, None), (0, None)]\n",
    "\n",
    "# Solve the linear programming problem\n",
    "result = linprog(c=cost, A_ub=A_ub, b_ub=b_ub, bounds=bounds, method=\"highs\")\n",
    "\n",
    "# Print results\n",
    "if result.success:\n",
    "    servings = result.x\n",
    "    print(\"Optimal daily servings:\")\n",
    "    print(f\"  Chicken: {servings[0]:.2f} servings\")\n",
    "    print(f\"  Rice: {servings[1]:.2f} servings\")\n",
    "    print(f\"  Broccoli: {servings[2]:.2f} servings\")\n",
    "    print(f\"Total cost: ${result.fun:.2f}\")\n",
    "else:\n",
    "    print(\"Optimization failed:\", result.message)\n",
    "\n",
    "# TODO: Extend the problem by adding a constraint for Vitamin C intake.\n",
    "# Steps to update the code:\n",
    "# 1. Add Vitamin C values for each food:\n",
    "#    - Chicken: 0 mg per serving\n",
    "#    - Rice: 0 mg per serving\n",
    "#    - Broccoli: 50 mg per serving\n",
    "# 2. Update the `nutrition` matrix by adding a new row for Vitamin C:\n",
    "#    nutrition.append([0, 0, 50])  # New row for Vitamin C intake\n",
    "# 3. Update the `min_nutrition` list to include the new requirement:\n",
    "#    min_nutrition.append(30)  # At least 30 mg of Vitamin C required per day\n",
    "# 4. Re-run the `linprog` function and observe the updated results.\n"
   ]
  },
  {
   "cell_type": "code",
   "execution_count": 3,
   "metadata": {},
   "outputs": [],
   "source": [
    "# Write the answers to the questions in this cell"
   ]
  }
 ],
 "metadata": {
  "kernelspec": {
   "display_name": "Python 3",
   "language": "python",
   "name": "python3"
  },
  "language_info": {
   "codemirror_mode": {
    "name": "ipython",
    "version": 3
   },
   "file_extension": ".py",
   "mimetype": "text/x-python",
   "name": "python",
   "nbconvert_exporter": "python",
   "pygments_lexer": "ipython3",
   "version": "3.8.5"
  }
 },
 "nbformat": 4,
 "nbformat_minor": 4
}
